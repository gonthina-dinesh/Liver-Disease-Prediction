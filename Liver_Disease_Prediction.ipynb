{
 "cells": [
  {
   "cell_type": "markdown",
   "id": "95c75584",
   "metadata": {},
   "source": [
    "# 🩺 Liver Disease Stage Prediction\n",
    "This notebook builds a machine learning model to classify liver disease stages using clinical data."
   ]
  },
  {
   "cell_type": "markdown",
   "id": "ccb022d7",
   "metadata": {},
   "source": [
    "## 📥 Load the Dataset\n",
    "Importing required libraries and loading the dataset."
   ]
  },
  {
   "cell_type": "code",
   "execution_count": 1,
   "id": "1129ce6b-5fcb-40ae-9ebe-778ae8be4daf",
   "metadata": {},
   "outputs": [],
   "source": [
    "import pandas as pd "
   ]
  },
  {
   "cell_type": "code",
   "execution_count": 2,
   "id": "c2e9d73f-ad8f-496f-84a5-0679e57ee03d",
   "metadata": {},
   "outputs": [],
   "source": [
    "df = pd.read_csv('liver_cirrhosis.csv')"
   ]
  },
  {
   "cell_type": "markdown",
   "id": "c8b1271d",
   "metadata": {},
   "source": [
    "## 👀 Dataset Overview\n",
    "Let's take a quick look at the dataset to understand its structure."
   ]
  },
  {
   "cell_type": "code",
   "execution_count": 3,
   "id": "1364d034-6d39-49dc-8a95-638b05132650",
   "metadata": {},
   "outputs": [
    {
     "data": {
      "text/html": [
       "<div>\n",
       "<style scoped>\n",
       "    .dataframe tbody tr th:only-of-type {\n",
       "        vertical-align: middle;\n",
       "    }\n",
       "\n",
       "    .dataframe tbody tr th {\n",
       "        vertical-align: top;\n",
       "    }\n",
       "\n",
       "    .dataframe thead th {\n",
       "        text-align: right;\n",
       "    }\n",
       "</style>\n",
       "<table border=\"1\" class=\"dataframe\">\n",
       "  <thead>\n",
       "    <tr style=\"text-align: right;\">\n",
       "      <th></th>\n",
       "      <th>N_Days</th>\n",
       "      <th>Status</th>\n",
       "      <th>Drug</th>\n",
       "      <th>Age</th>\n",
       "      <th>Sex</th>\n",
       "      <th>Ascites</th>\n",
       "      <th>Hepatomegaly</th>\n",
       "      <th>Spiders</th>\n",
       "      <th>Edema</th>\n",
       "      <th>Bilirubin</th>\n",
       "      <th>Cholesterol</th>\n",
       "      <th>Albumin</th>\n",
       "      <th>Copper</th>\n",
       "      <th>Alk_Phos</th>\n",
       "      <th>SGOT</th>\n",
       "      <th>Tryglicerides</th>\n",
       "      <th>Platelets</th>\n",
       "      <th>Prothrombin</th>\n",
       "      <th>Stage</th>\n",
       "    </tr>\n",
       "  </thead>\n",
       "  <tbody>\n",
       "    <tr>\n",
       "      <th>0</th>\n",
       "      <td>2221</td>\n",
       "      <td>C</td>\n",
       "      <td>Placebo</td>\n",
       "      <td>18499</td>\n",
       "      <td>F</td>\n",
       "      <td>N</td>\n",
       "      <td>Y</td>\n",
       "      <td>N</td>\n",
       "      <td>N</td>\n",
       "      <td>0.5</td>\n",
       "      <td>149.000000</td>\n",
       "      <td>4.04</td>\n",
       "      <td>227.0</td>\n",
       "      <td>598.0</td>\n",
       "      <td>52.70</td>\n",
       "      <td>57.000000</td>\n",
       "      <td>256.0</td>\n",
       "      <td>9.9</td>\n",
       "      <td>1</td>\n",
       "    </tr>\n",
       "    <tr>\n",
       "      <th>1</th>\n",
       "      <td>1230</td>\n",
       "      <td>C</td>\n",
       "      <td>Placebo</td>\n",
       "      <td>19724</td>\n",
       "      <td>M</td>\n",
       "      <td>Y</td>\n",
       "      <td>N</td>\n",
       "      <td>Y</td>\n",
       "      <td>N</td>\n",
       "      <td>0.5</td>\n",
       "      <td>219.000000</td>\n",
       "      <td>3.93</td>\n",
       "      <td>22.0</td>\n",
       "      <td>663.0</td>\n",
       "      <td>45.00</td>\n",
       "      <td>75.000000</td>\n",
       "      <td>220.0</td>\n",
       "      <td>10.8</td>\n",
       "      <td>2</td>\n",
       "    </tr>\n",
       "    <tr>\n",
       "      <th>2</th>\n",
       "      <td>4184</td>\n",
       "      <td>C</td>\n",
       "      <td>Placebo</td>\n",
       "      <td>11839</td>\n",
       "      <td>F</td>\n",
       "      <td>N</td>\n",
       "      <td>N</td>\n",
       "      <td>N</td>\n",
       "      <td>N</td>\n",
       "      <td>0.5</td>\n",
       "      <td>320.000000</td>\n",
       "      <td>3.54</td>\n",
       "      <td>51.0</td>\n",
       "      <td>1243.0</td>\n",
       "      <td>122.45</td>\n",
       "      <td>80.000000</td>\n",
       "      <td>225.0</td>\n",
       "      <td>10.0</td>\n",
       "      <td>2</td>\n",
       "    </tr>\n",
       "    <tr>\n",
       "      <th>3</th>\n",
       "      <td>2090</td>\n",
       "      <td>D</td>\n",
       "      <td>Placebo</td>\n",
       "      <td>16467</td>\n",
       "      <td>F</td>\n",
       "      <td>N</td>\n",
       "      <td>N</td>\n",
       "      <td>N</td>\n",
       "      <td>N</td>\n",
       "      <td>0.7</td>\n",
       "      <td>255.000000</td>\n",
       "      <td>3.74</td>\n",
       "      <td>23.0</td>\n",
       "      <td>1024.0</td>\n",
       "      <td>77.50</td>\n",
       "      <td>58.000000</td>\n",
       "      <td>151.0</td>\n",
       "      <td>10.2</td>\n",
       "      <td>2</td>\n",
       "    </tr>\n",
       "    <tr>\n",
       "      <th>4</th>\n",
       "      <td>2105</td>\n",
       "      <td>D</td>\n",
       "      <td>Placebo</td>\n",
       "      <td>21699</td>\n",
       "      <td>F</td>\n",
       "      <td>N</td>\n",
       "      <td>Y</td>\n",
       "      <td>N</td>\n",
       "      <td>N</td>\n",
       "      <td>1.9</td>\n",
       "      <td>486.000000</td>\n",
       "      <td>3.54</td>\n",
       "      <td>74.0</td>\n",
       "      <td>1052.0</td>\n",
       "      <td>108.50</td>\n",
       "      <td>109.000000</td>\n",
       "      <td>151.0</td>\n",
       "      <td>11.5</td>\n",
       "      <td>1</td>\n",
       "    </tr>\n",
       "    <tr>\n",
       "      <th>...</th>\n",
       "      <td>...</td>\n",
       "      <td>...</td>\n",
       "      <td>...</td>\n",
       "      <td>...</td>\n",
       "      <td>...</td>\n",
       "      <td>...</td>\n",
       "      <td>...</td>\n",
       "      <td>...</td>\n",
       "      <td>...</td>\n",
       "      <td>...</td>\n",
       "      <td>...</td>\n",
       "      <td>...</td>\n",
       "      <td>...</td>\n",
       "      <td>...</td>\n",
       "      <td>...</td>\n",
       "      <td>...</td>\n",
       "      <td>...</td>\n",
       "      <td>...</td>\n",
       "      <td>...</td>\n",
       "    </tr>\n",
       "    <tr>\n",
       "      <th>24995</th>\n",
       "      <td>3584</td>\n",
       "      <td>D</td>\n",
       "      <td>D-penicillamine</td>\n",
       "      <td>23612</td>\n",
       "      <td>F</td>\n",
       "      <td>N</td>\n",
       "      <td>N</td>\n",
       "      <td>N</td>\n",
       "      <td>N</td>\n",
       "      <td>0.8</td>\n",
       "      <td>231.000000</td>\n",
       "      <td>3.87</td>\n",
       "      <td>173.0</td>\n",
       "      <td>9009.8</td>\n",
       "      <td>127.71</td>\n",
       "      <td>96.000000</td>\n",
       "      <td>295.0</td>\n",
       "      <td>11.0</td>\n",
       "      <td>2</td>\n",
       "    </tr>\n",
       "    <tr>\n",
       "      <th>24996</th>\n",
       "      <td>3584</td>\n",
       "      <td>D</td>\n",
       "      <td>D-penicillamine</td>\n",
       "      <td>23612</td>\n",
       "      <td>F</td>\n",
       "      <td>N</td>\n",
       "      <td>N</td>\n",
       "      <td>N</td>\n",
       "      <td>N</td>\n",
       "      <td>0.8</td>\n",
       "      <td>231.000000</td>\n",
       "      <td>3.87</td>\n",
       "      <td>173.0</td>\n",
       "      <td>9009.8</td>\n",
       "      <td>127.71</td>\n",
       "      <td>96.000000</td>\n",
       "      <td>295.0</td>\n",
       "      <td>11.0</td>\n",
       "      <td>2</td>\n",
       "    </tr>\n",
       "    <tr>\n",
       "      <th>24997</th>\n",
       "      <td>971</td>\n",
       "      <td>D</td>\n",
       "      <td>D-penicillamine</td>\n",
       "      <td>16736</td>\n",
       "      <td>F</td>\n",
       "      <td>N</td>\n",
       "      <td>Y</td>\n",
       "      <td>Y</td>\n",
       "      <td>Y</td>\n",
       "      <td>5.1</td>\n",
       "      <td>369.510563</td>\n",
       "      <td>3.23</td>\n",
       "      <td>18.0</td>\n",
       "      <td>790.0</td>\n",
       "      <td>179.80</td>\n",
       "      <td>124.702128</td>\n",
       "      <td>104.0</td>\n",
       "      <td>13.0</td>\n",
       "      <td>3</td>\n",
       "    </tr>\n",
       "    <tr>\n",
       "      <th>24998</th>\n",
       "      <td>3707</td>\n",
       "      <td>C</td>\n",
       "      <td>D-penicillamine</td>\n",
       "      <td>16990</td>\n",
       "      <td>F</td>\n",
       "      <td>N</td>\n",
       "      <td>Y</td>\n",
       "      <td>N</td>\n",
       "      <td>N</td>\n",
       "      <td>0.8</td>\n",
       "      <td>315.000000</td>\n",
       "      <td>4.24</td>\n",
       "      <td>13.0</td>\n",
       "      <td>1637.0</td>\n",
       "      <td>170.50</td>\n",
       "      <td>70.000000</td>\n",
       "      <td>426.0</td>\n",
       "      <td>10.9</td>\n",
       "      <td>2</td>\n",
       "    </tr>\n",
       "    <tr>\n",
       "      <th>24999</th>\n",
       "      <td>3707</td>\n",
       "      <td>C</td>\n",
       "      <td>D-penicillamine</td>\n",
       "      <td>16990</td>\n",
       "      <td>F</td>\n",
       "      <td>N</td>\n",
       "      <td>Y</td>\n",
       "      <td>N</td>\n",
       "      <td>N</td>\n",
       "      <td>0.8</td>\n",
       "      <td>315.000000</td>\n",
       "      <td>4.24</td>\n",
       "      <td>13.0</td>\n",
       "      <td>1637.0</td>\n",
       "      <td>170.50</td>\n",
       "      <td>70.000000</td>\n",
       "      <td>426.0</td>\n",
       "      <td>10.9</td>\n",
       "      <td>2</td>\n",
       "    </tr>\n",
       "  </tbody>\n",
       "</table>\n",
       "<p>25000 rows × 19 columns</p>\n",
       "</div>"
      ],
      "text/plain": [
       "       N_Days Status             Drug    Age Sex Ascites Hepatomegaly Spiders  \\\n",
       "0        2221      C          Placebo  18499   F       N            Y       N   \n",
       "1        1230      C          Placebo  19724   M       Y            N       Y   \n",
       "2        4184      C          Placebo  11839   F       N            N       N   \n",
       "3        2090      D          Placebo  16467   F       N            N       N   \n",
       "4        2105      D          Placebo  21699   F       N            Y       N   \n",
       "...       ...    ...              ...    ...  ..     ...          ...     ...   \n",
       "24995    3584      D  D-penicillamine  23612   F       N            N       N   \n",
       "24996    3584      D  D-penicillamine  23612   F       N            N       N   \n",
       "24997     971      D  D-penicillamine  16736   F       N            Y       Y   \n",
       "24998    3707      C  D-penicillamine  16990   F       N            Y       N   \n",
       "24999    3707      C  D-penicillamine  16990   F       N            Y       N   \n",
       "\n",
       "      Edema  Bilirubin  Cholesterol  Albumin  Copper  Alk_Phos    SGOT  \\\n",
       "0         N        0.5   149.000000     4.04   227.0     598.0   52.70   \n",
       "1         N        0.5   219.000000     3.93    22.0     663.0   45.00   \n",
       "2         N        0.5   320.000000     3.54    51.0    1243.0  122.45   \n",
       "3         N        0.7   255.000000     3.74    23.0    1024.0   77.50   \n",
       "4         N        1.9   486.000000     3.54    74.0    1052.0  108.50   \n",
       "...     ...        ...          ...      ...     ...       ...     ...   \n",
       "24995     N        0.8   231.000000     3.87   173.0    9009.8  127.71   \n",
       "24996     N        0.8   231.000000     3.87   173.0    9009.8  127.71   \n",
       "24997     Y        5.1   369.510563     3.23    18.0     790.0  179.80   \n",
       "24998     N        0.8   315.000000     4.24    13.0    1637.0  170.50   \n",
       "24999     N        0.8   315.000000     4.24    13.0    1637.0  170.50   \n",
       "\n",
       "       Tryglicerides  Platelets  Prothrombin  Stage  \n",
       "0          57.000000      256.0          9.9      1  \n",
       "1          75.000000      220.0         10.8      2  \n",
       "2          80.000000      225.0         10.0      2  \n",
       "3          58.000000      151.0         10.2      2  \n",
       "4         109.000000      151.0         11.5      1  \n",
       "...              ...        ...          ...    ...  \n",
       "24995      96.000000      295.0         11.0      2  \n",
       "24996      96.000000      295.0         11.0      2  \n",
       "24997     124.702128      104.0         13.0      3  \n",
       "24998      70.000000      426.0         10.9      2  \n",
       "24999      70.000000      426.0         10.9      2  \n",
       "\n",
       "[25000 rows x 19 columns]"
      ]
     },
     "execution_count": 3,
     "metadata": {},
     "output_type": "execute_result"
    }
   ],
   "source": [
    "df "
   ]
  },
  {
   "cell_type": "markdown",
   "id": "0a68c76f",
   "metadata": {},
   "source": [
    "## 🔍 Data Inspection"
   ]
  },
  {
   "cell_type": "code",
   "execution_count": 4,
   "id": "5a958e37-011c-407c-8f19-b7ffde739232",
   "metadata": {},
   "outputs": [
    {
     "name": "stdout",
     "output_type": "stream",
     "text": [
      "<class 'pandas.core.frame.DataFrame'>\n",
      "RangeIndex: 25000 entries, 0 to 24999\n",
      "Data columns (total 19 columns):\n",
      " #   Column         Non-Null Count  Dtype  \n",
      "---  ------         --------------  -----  \n",
      " 0   N_Days         25000 non-null  int64  \n",
      " 1   Status         25000 non-null  object \n",
      " 2   Drug           25000 non-null  object \n",
      " 3   Age            25000 non-null  int64  \n",
      " 4   Sex            25000 non-null  object \n",
      " 5   Ascites        25000 non-null  object \n",
      " 6   Hepatomegaly   25000 non-null  object \n",
      " 7   Spiders        25000 non-null  object \n",
      " 8   Edema          25000 non-null  object \n",
      " 9   Bilirubin      25000 non-null  float64\n",
      " 10  Cholesterol    25000 non-null  float64\n",
      " 11  Albumin        25000 non-null  float64\n",
      " 12  Copper         25000 non-null  float64\n",
      " 13  Alk_Phos       25000 non-null  float64\n",
      " 14  SGOT           25000 non-null  float64\n",
      " 15  Tryglicerides  25000 non-null  float64\n",
      " 16  Platelets      25000 non-null  float64\n",
      " 17  Prothrombin    25000 non-null  float64\n",
      " 18  Stage          25000 non-null  int64  \n",
      "dtypes: float64(9), int64(3), object(7)\n",
      "memory usage: 3.6+ MB\n"
     ]
    }
   ],
   "source": [
    "df.info()"
   ]
  },
  {
   "cell_type": "code",
   "execution_count": 6,
   "id": "20bb5e2a-6118-45b9-a118-c4689acfe08f",
   "metadata": {},
   "outputs": [],
   "source": [
    "import matplotlib.pyplot as plt\n",
    "%matplotlib inline"
   ]
  },
  {
   "cell_type": "code",
   "execution_count": 7,
   "id": "34f8506d-2a34-4c70-bf2e-27aad369ae6e",
   "metadata": {},
   "outputs": [
    {
     "data": {
      "image/png": "[encoded data removed]",
      "text/plain": [
       "<Figure size 600x400 with 1 Axes>"
      ]
     },
     "metadata": {},
     "output_type": "display_data"
    }
   ],
   "source": [
    "stage_counts = df['Stage'].value_counts().sort_index()\n",
    "\n",
    "# Plotting\n",
    "plt.figure(figsize=(6, 4))\n",
    "plt.bar(stage_counts.index, stage_counts.values, color='skyblue', edgecolor='black')\n",
    "plt.title('Count of Each Liver Disease Stage')\n",
    "plt.xlabel('Stage')\n",
    "plt.ylabel('Count')\n",
    "plt.xticks(stage_counts.index)  # Ensure x-ticks match stages 1, 2, 3\n",
    "plt.grid(axis='y', linestyle='--', alpha=0.7)\n",
    "plt.tight_layout()"
   ]
  },
  {
   "cell_type": "markdown",
   "id": "754ad1e1",
   "metadata": {},
   "source": [
    "## ✂️ Train-Test Split"
   ]
  },
  {
   "cell_type": "code",
   "execution_count": 9,
   "id": "cad147b1-856a-4052-a362-fa9d6fdb8055",
   "metadata": {},
   "outputs": [],
   "source": [
    "from sklearn.model_selection import train_test_split\n",
    "\n",
    "train_df, test_df = train_test_split(df, test_size=0.2, random_state=42)"
   ]
  },
  {
   "cell_type": "code",
   "execution_count": 10,
   "id": "f36a7639-c7e9-45f5-977a-3da63695f14c",
   "metadata": {},
   "outputs": [
    {
     "data": {
      "text/plain": [
       "(20000, 19)"
      ]
     },
     "execution_count": 10,
     "metadata": {},
     "output_type": "execute_result"
    }
   ],
   "source": [
    "train_df.shape"
   ]
  },
  {
   "cell_type": "code",
   "execution_count": 11,
   "id": "01af4597-4424-4094-84ee-4f1f4d9867c9",
   "metadata": {},
   "outputs": [
    {
     "data": {
      "text/plain": [
       "(5000, 19)"
      ]
     },
     "execution_count": 11,
     "metadata": {},
     "output_type": "execute_result"
    }
   ],
   "source": [
    "test_df.shape"
   ]
  },
  {
   "cell_type": "markdown",
   "id": "7127797f",
   "metadata": {},
   "source": [
    "## ✂️ Train-Test Split"
   ]
  },
  {
   "cell_type": "code",
   "execution_count": 12,
   "id": "e64d95de-fd07-4337-97eb-6cb54b24ea13",
   "metadata": {},
   "outputs": [],
   "source": [
    "train_df, val_df = train_test_split(train_df, test_size=0.2, random_state=42)"
   ]
  },
  {
   "cell_type": "code",
   "execution_count": 14,
   "id": "b6cfbf71-bdae-4ca5-8639-856108275c32",
   "metadata": {},
   "outputs": [
    {
     "data": {
      "text/plain": [
       "(4000, 19)"
      ]
     },
     "execution_count": 14,
     "metadata": {},
     "output_type": "execute_result"
    }
   ],
   "source": [
    "val_df.shape"
   ]
  },
  {
   "cell_type": "code",
   "execution_count": 15,
   "id": "93d6ff42-a133-41f8-8f21-f7953b7f95b2",
   "metadata": {},
   "outputs": [
    {
     "data": {
      "text/plain": [
       "(16000, 19)"
      ]
     },
     "execution_count": 15,
     "metadata": {},
     "output_type": "execute_result"
    }
   ],
   "source": [
    "train_df.shape"
   ]
  },
  {
   "cell_type": "code",
   "execution_count": 25,
   "id": "5ec34b7d-a1bd-44cd-9958-b7e0fe5f7225",
   "metadata": {},
   "outputs": [],
   "source": [
    "input_cols = list(train_df.columns[:-1])\n",
    "target_col = 'Stage'"
   ]
  },
  {
   "cell_type": "code",
   "execution_count": 26,
   "id": "a94f167f-36e4-4596-87f6-db82c5f399eb",
   "metadata": {},
   "outputs": [
    {
     "data": {
      "text/plain": [
       "['N_Days',\n",
       " 'Status',\n",
       " 'Drug',\n",
       " 'Age',\n",
       " 'Sex',\n",
       " 'Ascites',\n",
       " 'Hepatomegaly',\n",
       " 'Spiders',\n",
       " 'Edema',\n",
       " 'Bilirubin',\n",
       " 'Cholesterol',\n",
       " 'Albumin',\n",
       " 'Copper',\n",
       " 'Alk_Phos',\n",
       " 'SGOT',\n",
       " 'Tryglicerides',\n",
       " 'Platelets',\n",
       " 'Prothrombin']"
      ]
     },
     "execution_count": 26,
     "metadata": {},
     "output_type": "execute_result"
    }
   ],
   "source": [
    "input_cols"
   ]
  },
  {
   "cell_type": "code",
   "execution_count": 27,
   "id": "ceda53cd-c5ad-4a3c-890e-5041f0a7f56f",
   "metadata": {},
   "outputs": [],
   "source": [
    "train_inputs = train_df[input_cols]\n",
    "train_targets = train_df[target_col]"
   ]
  },
  {
   "cell_type": "code",
   "execution_count": 28,
   "id": "39604f1a-f736-4bad-9536-8e11b6552eb9",
   "metadata": {},
   "outputs": [],
   "source": [
    "val_inputs = val_df[input_cols]\n",
    "val_targets = val_df[target_col]"
   ]
  },
  {
   "cell_type": "code",
   "execution_count": 50,
   "id": "c8f36116-06b2-48b8-a98e-7dd784e16d96",
   "metadata": {},
   "outputs": [],
   "source": [
    "test_inputs = test_df[input_cols]\n",
    "test_targets = test_df[target_col]"
   ]
  },
  {
   "cell_type": "code",
   "execution_count": 30,
   "id": "95a2a473-a017-409f-8ce4-09da167f5061",
   "metadata": {},
   "outputs": [],
   "source": [
    "import numpy as np"
   ]
  },
  {
   "cell_type": "code",
   "execution_count": 31,
   "id": "5da833c5-b968-4bc9-8577-00e666f4a6b4",
   "metadata": {},
   "outputs": [],
   "source": [
    "numeric_cols = train_inputs.select_dtypes(include=np.number).columns.tolist()\n",
    "categorical_cols = train_inputs.select_dtypes('object').columns.tolist()"
   ]
  },
  {
   "cell_type": "code",
   "execution_count": 32,
   "id": "dffbcd22-a212-4629-9b5c-4f6118451add",
   "metadata": {},
   "outputs": [
    {
     "name": "stdout",
     "output_type": "stream",
     "text": [
      "['N_Days', 'Age', 'Bilirubin', 'Cholesterol', 'Albumin', 'Copper', 'Alk_Phos', 'SGOT', 'Tryglicerides', 'Platelets', 'Prothrombin']\n"
     ]
    }
   ],
   "source": [
    "print(numeric_cols)"
   ]
  },
  {
   "cell_type": "code",
   "execution_count": 33,
   "id": "a612b8ec-9daf-4c7e-a9e2-837caee6a517",
   "metadata": {},
   "outputs": [
    {
     "name": "stdout",
     "output_type": "stream",
     "text": [
      "['Status', 'Drug', 'Sex', 'Ascites', 'Hepatomegaly', 'Spiders', 'Edema']\n"
     ]
    }
   ],
   "source": [
    "print(categorical_cols)"
   ]
  },
  {
   "cell_type": "code",
   "execution_count": 34,
   "id": "ef94c67b-ed01-4186-a22c-a1eb2372275b",
   "metadata": {},
   "outputs": [],
   "source": [
    "from sklearn.preprocessing import OneHotEncoder"
   ]
  },
  {
   "cell_type": "markdown",
   "id": "05048b90",
   "metadata": {},
   "source": [
    "## 🤖 Model Training"
   ]
  },
  {
   "cell_type": "code",
   "execution_count": 35,
   "id": "4ac60c2c-0ce6-42d2-a7b3-c495a34710e3",
   "metadata": {},
   "outputs": [],
   "source": [
    "encoder = OneHotEncoder(sparse_output=False, handle_unknown='ignore').fit(train_inputs[categorical_cols])\n",
    "encoded_cols = list(encoder.get_feature_names_out(categorical_cols))"
   ]
  },
  {
   "cell_type": "code",
   "execution_count": 36,
   "id": "1036ecd8-85b6-461c-8d30-494159f204ac",
   "metadata": {},
   "outputs": [
    {
     "data": {
      "text/plain": [
       "['Status_C',\n",
       " 'Status_CL',\n",
       " 'Status_D',\n",
       " 'Drug_D-penicillamine',\n",
       " 'Drug_Placebo',\n",
       " 'Sex_F',\n",
       " 'Sex_M',\n",
       " 'Ascites_N',\n",
       " 'Ascites_Y',\n",
       " 'Hepatomegaly_N',\n",
       " 'Hepatomegaly_Y',\n",
       " 'Spiders_N',\n",
       " 'Spiders_Y',\n",
       " 'Edema_N',\n",
       " 'Edema_S',\n",
       " 'Edema_Y']"
      ]
     },
     "execution_count": 36,
     "metadata": {},
     "output_type": "execute_result"
    }
   ],
   "source": [
    "encoded_cols"
   ]
  },
  {
   "cell_type": "code",
   "execution_count": 37,
   "id": "9d35883f-7418-42b6-ac49-c5d35a32faec",
   "metadata": {},
   "outputs": [],
   "source": [
    "train_inputs[encoded_cols] = encoder.transform(train_inputs[categorical_cols])\n",
    "val_inputs[encoded_cols] = encoder.transform(val_inputs[categorical_cols])\n",
    "test_inputs[encoded_cols] = encoder.transform(test_inputs[categorical_cols])"
   ]
  },
  {
   "cell_type": "code",
   "execution_count": 38,
   "id": "2693185c-af15-4d5d-851a-851de54d4cb6",
   "metadata": {},
   "outputs": [
    {
     "data": {
      "text/html": [
       "<div>\n",
       "<style scoped>\n",
       "    .dataframe tbody tr th:only-of-type {\n",
       "        vertical-align: middle;\n",
       "    }\n",
       "\n",
       "    .dataframe tbody tr th {\n",
       "        vertical-align: top;\n",
       "    }\n",
       "\n",
       "    .dataframe thead th {\n",
       "        text-align: right;\n",
       "    }\n",
       "</style>\n",
       "<table border=\"1\" class=\"dataframe\">\n",
       "  <thead>\n",
       "    <tr style=\"text-align: right;\">\n",
       "      <th></th>\n",
       "      <th>N_Days</th>\n",
       "      <th>Status</th>\n",
       "      <th>Drug</th>\n",
       "      <th>Age</th>\n",
       "      <th>Sex</th>\n",
       "      <th>Ascites</th>\n",
       "      <th>Hepatomegaly</th>\n",
       "      <th>Spiders</th>\n",
       "      <th>Edema</th>\n",
       "      <th>Bilirubin</th>\n",
       "      <th>...</th>\n",
       "      <th>Sex_M</th>\n",
       "      <th>Ascites_N</th>\n",
       "      <th>Ascites_Y</th>\n",
       "      <th>Hepatomegaly_N</th>\n",
       "      <th>Hepatomegaly_Y</th>\n",
       "      <th>Spiders_N</th>\n",
       "      <th>Spiders_Y</th>\n",
       "      <th>Edema_N</th>\n",
       "      <th>Edema_S</th>\n",
       "      <th>Edema_Y</th>\n",
       "    </tr>\n",
       "  </thead>\n",
       "  <tbody>\n",
       "    <tr>\n",
       "      <th>6911</th>\n",
       "      <td>1301</td>\n",
       "      <td>CL</td>\n",
       "      <td>D-penicillamine</td>\n",
       "      <td>22797</td>\n",
       "      <td>F</td>\n",
       "      <td>Y</td>\n",
       "      <td>Y</td>\n",
       "      <td>N</td>\n",
       "      <td>S</td>\n",
       "      <td>1.1</td>\n",
       "      <td>...</td>\n",
       "      <td>0.0</td>\n",
       "      <td>0.0</td>\n",
       "      <td>1.0</td>\n",
       "      <td>0.0</td>\n",
       "      <td>1.0</td>\n",
       "      <td>1.0</td>\n",
       "      <td>0.0</td>\n",
       "      <td>0.0</td>\n",
       "      <td>1.0</td>\n",
       "      <td>0.0</td>\n",
       "    </tr>\n",
       "    <tr>\n",
       "      <th>17960</th>\n",
       "      <td>935</td>\n",
       "      <td>D</td>\n",
       "      <td>Placebo</td>\n",
       "      <td>17897</td>\n",
       "      <td>F</td>\n",
       "      <td>Y</td>\n",
       "      <td>N</td>\n",
       "      <td>Y</td>\n",
       "      <td>N</td>\n",
       "      <td>4.2</td>\n",
       "      <td>...</td>\n",
       "      <td>0.0</td>\n",
       "      <td>0.0</td>\n",
       "      <td>1.0</td>\n",
       "      <td>1.0</td>\n",
       "      <td>0.0</td>\n",
       "      <td>0.0</td>\n",
       "      <td>1.0</td>\n",
       "      <td>1.0</td>\n",
       "      <td>0.0</td>\n",
       "      <td>0.0</td>\n",
       "    </tr>\n",
       "    <tr>\n",
       "      <th>13714</th>\n",
       "      <td>3672</td>\n",
       "      <td>C</td>\n",
       "      <td>D-penicillamine</td>\n",
       "      <td>13913</td>\n",
       "      <td>F</td>\n",
       "      <td>N</td>\n",
       "      <td>N</td>\n",
       "      <td>N</td>\n",
       "      <td>N</td>\n",
       "      <td>0.7</td>\n",
       "      <td>...</td>\n",
       "      <td>0.0</td>\n",
       "      <td>1.0</td>\n",
       "      <td>0.0</td>\n",
       "      <td>1.0</td>\n",
       "      <td>0.0</td>\n",
       "      <td>1.0</td>\n",
       "      <td>0.0</td>\n",
       "      <td>1.0</td>\n",
       "      <td>0.0</td>\n",
       "      <td>0.0</td>\n",
       "    </tr>\n",
       "    <tr>\n",
       "      <th>15813</th>\n",
       "      <td>1478</td>\n",
       "      <td>D</td>\n",
       "      <td>Placebo</td>\n",
       "      <td>16802</td>\n",
       "      <td>F</td>\n",
       "      <td>Y</td>\n",
       "      <td>N</td>\n",
       "      <td>Y</td>\n",
       "      <td>N</td>\n",
       "      <td>9.5</td>\n",
       "      <td>...</td>\n",
       "      <td>0.0</td>\n",
       "      <td>0.0</td>\n",
       "      <td>1.0</td>\n",
       "      <td>1.0</td>\n",
       "      <td>0.0</td>\n",
       "      <td>0.0</td>\n",
       "      <td>1.0</td>\n",
       "      <td>1.0</td>\n",
       "      <td>0.0</td>\n",
       "      <td>0.0</td>\n",
       "    </tr>\n",
       "    <tr>\n",
       "      <th>22169</th>\n",
       "      <td>2170</td>\n",
       "      <td>C</td>\n",
       "      <td>D-penicillamine</td>\n",
       "      <td>12636</td>\n",
       "      <td>F</td>\n",
       "      <td>N</td>\n",
       "      <td>N</td>\n",
       "      <td>N</td>\n",
       "      <td>N</td>\n",
       "      <td>0.5</td>\n",
       "      <td>...</td>\n",
       "      <td>0.0</td>\n",
       "      <td>1.0</td>\n",
       "      <td>0.0</td>\n",
       "      <td>1.0</td>\n",
       "      <td>0.0</td>\n",
       "      <td>1.0</td>\n",
       "      <td>0.0</td>\n",
       "      <td>1.0</td>\n",
       "      <td>0.0</td>\n",
       "      <td>0.0</td>\n",
       "    </tr>\n",
       "  </tbody>\n",
       "</table>\n",
       "<p>5 rows × 34 columns</p>\n",
       "</div>"
      ],
      "text/plain": [
       "       N_Days Status             Drug    Age Sex Ascites Hepatomegaly Spiders  \\\n",
       "6911     1301     CL  D-penicillamine  22797   F       Y            Y       N   \n",
       "17960     935      D          Placebo  17897   F       Y            N       Y   \n",
       "13714    3672      C  D-penicillamine  13913   F       N            N       N   \n",
       "15813    1478      D          Placebo  16802   F       Y            N       Y   \n",
       "22169    2170      C  D-penicillamine  12636   F       N            N       N   \n",
       "\n",
       "      Edema  Bilirubin  ...  Sex_M  Ascites_N  Ascites_Y  Hepatomegaly_N  \\\n",
       "6911      S        1.1  ...    0.0        0.0        1.0             0.0   \n",
       "17960     N        4.2  ...    0.0        0.0        1.0             1.0   \n",
       "13714     N        0.7  ...    0.0        1.0        0.0             1.0   \n",
       "15813     N        9.5  ...    0.0        0.0        1.0             1.0   \n",
       "22169     N        0.5  ...    0.0        1.0        0.0             1.0   \n",
       "\n",
       "       Hepatomegaly_Y  Spiders_N  Spiders_Y  Edema_N  Edema_S  Edema_Y  \n",
       "6911              1.0        1.0        0.0      0.0      1.0      0.0  \n",
       "17960             0.0        0.0        1.0      1.0      0.0      0.0  \n",
       "13714             0.0        1.0        0.0      1.0      0.0      0.0  \n",
       "15813             0.0        0.0        1.0      1.0      0.0      0.0  \n",
       "22169             0.0        1.0        0.0      1.0      0.0      0.0  \n",
       "\n",
       "[5 rows x 34 columns]"
      ]
     },
     "execution_count": 38,
     "metadata": {},
     "output_type": "execute_result"
    }
   ],
   "source": [
    "train_inputs.head(5)"
   ]
  },
  {
   "cell_type": "code",
   "execution_count": 39,
   "id": "d67a4aec-1bef-419d-bb7c-9808d5bc5053",
   "metadata": {},
   "outputs": [],
   "source": [
    "X_train = train_inputs[numeric_cols + encoded_cols]\n",
    "X_val = val_inputs[numeric_cols + encoded_cols]\n",
    "X_test = test_inputs[numeric_cols + encoded_cols]"
   ]
  },
  {
   "cell_type": "code",
   "execution_count": 40,
   "id": "a65bc378-9c23-4dfe-bba7-1312ea9d8f35",
   "metadata": {},
   "outputs": [
    {
     "data": {
      "text/html": [
       "<div>\n",
       "<style scoped>\n",
       "    .dataframe tbody tr th:only-of-type {\n",
       "        vertical-align: middle;\n",
       "    }\n",
       "\n",
       "    .dataframe tbody tr th {\n",
       "        vertical-align: top;\n",
       "    }\n",
       "\n",
       "    .dataframe thead th {\n",
       "        text-align: right;\n",
       "    }\n",
       "</style>\n",
       "<table border=\"1\" class=\"dataframe\">\n",
       "  <thead>\n",
       "    <tr style=\"text-align: right;\">\n",
       "      <th></th>\n",
       "      <th>N_Days</th>\n",
       "      <th>Age</th>\n",
       "      <th>Bilirubin</th>\n",
       "      <th>Cholesterol</th>\n",
       "      <th>Albumin</th>\n",
       "      <th>Copper</th>\n",
       "      <th>Alk_Phos</th>\n",
       "      <th>SGOT</th>\n",
       "      <th>Tryglicerides</th>\n",
       "      <th>Platelets</th>\n",
       "      <th>...</th>\n",
       "      <th>Sex_M</th>\n",
       "      <th>Ascites_N</th>\n",
       "      <th>Ascites_Y</th>\n",
       "      <th>Hepatomegaly_N</th>\n",
       "      <th>Hepatomegaly_Y</th>\n",
       "      <th>Spiders_N</th>\n",
       "      <th>Spiders_Y</th>\n",
       "      <th>Edema_N</th>\n",
       "      <th>Edema_S</th>\n",
       "      <th>Edema_Y</th>\n",
       "    </tr>\n",
       "  </thead>\n",
       "  <tbody>\n",
       "    <tr>\n",
       "      <th>6911</th>\n",
       "      <td>1301</td>\n",
       "      <td>22797</td>\n",
       "      <td>1.1</td>\n",
       "      <td>432.000000</td>\n",
       "      <td>3.57</td>\n",
       "      <td>45.000000</td>\n",
       "      <td>1406.000000</td>\n",
       "      <td>190.000000</td>\n",
       "      <td>77.000000</td>\n",
       "      <td>139.0</td>\n",
       "      <td>...</td>\n",
       "      <td>0.0</td>\n",
       "      <td>0.0</td>\n",
       "      <td>1.0</td>\n",
       "      <td>0.0</td>\n",
       "      <td>1.0</td>\n",
       "      <td>1.0</td>\n",
       "      <td>0.0</td>\n",
       "      <td>0.0</td>\n",
       "      <td>1.0</td>\n",
       "      <td>0.0</td>\n",
       "    </tr>\n",
       "    <tr>\n",
       "      <th>17960</th>\n",
       "      <td>935</td>\n",
       "      <td>17897</td>\n",
       "      <td>4.2</td>\n",
       "      <td>369.510563</td>\n",
       "      <td>3.19</td>\n",
       "      <td>97.648387</td>\n",
       "      <td>1982.655769</td>\n",
       "      <td>122.556346</td>\n",
       "      <td>124.702128</td>\n",
       "      <td>388.0</td>\n",
       "      <td>...</td>\n",
       "      <td>0.0</td>\n",
       "      <td>0.0</td>\n",
       "      <td>1.0</td>\n",
       "      <td>1.0</td>\n",
       "      <td>0.0</td>\n",
       "      <td>0.0</td>\n",
       "      <td>1.0</td>\n",
       "      <td>1.0</td>\n",
       "      <td>0.0</td>\n",
       "      <td>0.0</td>\n",
       "    </tr>\n",
       "    <tr>\n",
       "      <th>13714</th>\n",
       "      <td>3672</td>\n",
       "      <td>13913</td>\n",
       "      <td>0.7</td>\n",
       "      <td>204.000000</td>\n",
       "      <td>3.66</td>\n",
       "      <td>28.000000</td>\n",
       "      <td>685.000000</td>\n",
       "      <td>72.850000</td>\n",
       "      <td>58.000000</td>\n",
       "      <td>213.0</td>\n",
       "      <td>...</td>\n",
       "      <td>0.0</td>\n",
       "      <td>1.0</td>\n",
       "      <td>0.0</td>\n",
       "      <td>1.0</td>\n",
       "      <td>0.0</td>\n",
       "      <td>1.0</td>\n",
       "      <td>0.0</td>\n",
       "      <td>1.0</td>\n",
       "      <td>0.0</td>\n",
       "      <td>0.0</td>\n",
       "    </tr>\n",
       "    <tr>\n",
       "      <th>15813</th>\n",
       "      <td>1478</td>\n",
       "      <td>16802</td>\n",
       "      <td>9.5</td>\n",
       "      <td>369.510563</td>\n",
       "      <td>3.63</td>\n",
       "      <td>97.648387</td>\n",
       "      <td>1982.655769</td>\n",
       "      <td>122.556346</td>\n",
       "      <td>124.702128</td>\n",
       "      <td>419.0</td>\n",
       "      <td>...</td>\n",
       "      <td>0.0</td>\n",
       "      <td>0.0</td>\n",
       "      <td>1.0</td>\n",
       "      <td>1.0</td>\n",
       "      <td>0.0</td>\n",
       "      <td>0.0</td>\n",
       "      <td>1.0</td>\n",
       "      <td>1.0</td>\n",
       "      <td>0.0</td>\n",
       "      <td>0.0</td>\n",
       "    </tr>\n",
       "    <tr>\n",
       "      <th>22169</th>\n",
       "      <td>2170</td>\n",
       "      <td>12636</td>\n",
       "      <td>0.5</td>\n",
       "      <td>369.510563</td>\n",
       "      <td>3.89</td>\n",
       "      <td>29.000000</td>\n",
       "      <td>897.000000</td>\n",
       "      <td>66.650000</td>\n",
       "      <td>124.702128</td>\n",
       "      <td>423.0</td>\n",
       "      <td>...</td>\n",
       "      <td>0.0</td>\n",
       "      <td>1.0</td>\n",
       "      <td>0.0</td>\n",
       "      <td>1.0</td>\n",
       "      <td>0.0</td>\n",
       "      <td>1.0</td>\n",
       "      <td>0.0</td>\n",
       "      <td>1.0</td>\n",
       "      <td>0.0</td>\n",
       "      <td>0.0</td>\n",
       "    </tr>\n",
       "  </tbody>\n",
       "</table>\n",
       "<p>5 rows × 27 columns</p>\n",
       "</div>"
      ],
      "text/plain": [
       "       N_Days    Age  Bilirubin  Cholesterol  Albumin     Copper     Alk_Phos  \\\n",
       "6911     1301  22797        1.1   432.000000     3.57  45.000000  1406.000000   \n",
       "17960     935  17897        4.2   369.510563     3.19  97.648387  1982.655769   \n",
       "13714    3672  13913        0.7   204.000000     3.66  28.000000   685.000000   \n",
       "15813    1478  16802        9.5   369.510563     3.63  97.648387  1982.655769   \n",
       "22169    2170  12636        0.5   369.510563     3.89  29.000000   897.000000   \n",
       "\n",
       "             SGOT  Tryglicerides  Platelets  ...  Sex_M  Ascites_N  Ascites_Y  \\\n",
       "6911   190.000000      77.000000      139.0  ...    0.0        0.0        1.0   \n",
       "17960  122.556346     124.702128      388.0  ...    0.0        0.0        1.0   \n",
       "13714   72.850000      58.000000      213.0  ...    0.0        1.0        0.0   \n",
       "15813  122.556346     124.702128      419.0  ...    0.0        0.0        1.0   \n",
       "22169   66.650000     124.702128      423.0  ...    0.0        1.0        0.0   \n",
       "\n",
       "       Hepatomegaly_N  Hepatomegaly_Y  Spiders_N  Spiders_Y  Edema_N  Edema_S  \\\n",
       "6911              0.0             1.0        1.0        0.0      0.0      1.0   \n",
       "17960             1.0             0.0        0.0        1.0      1.0      0.0   \n",
       "13714             1.0             0.0        1.0        0.0      1.0      0.0   \n",
       "15813             1.0             0.0        0.0        1.0      1.0      0.0   \n",
       "22169             1.0             0.0        1.0        0.0      1.0      0.0   \n",
       "\n",
       "       Edema_Y  \n",
       "6911       0.0  \n",
       "17960      0.0  \n",
       "13714      0.0  \n",
       "15813      0.0  \n",
       "22169      0.0  \n",
       "\n",
       "[5 rows x 27 columns]"
      ]
     },
     "execution_count": 40,
     "metadata": {},
     "output_type": "execute_result"
    }
   ],
   "source": [
    "X_train.head(5)"
   ]
  },
  {
   "cell_type": "markdown",
   "id": "dba8356c",
   "metadata": {},
   "source": [
    "## 🤖 Model Training"
   ]
  },
  {
   "cell_type": "code",
   "execution_count": 41,
   "id": "a4132821-4eb5-4a99-919b-57e967be933c",
   "metadata": {},
   "outputs": [
    {
     "data": {
      "text/html": [
       "<style>#sk-container-id-1 {color: black;background-color: white;}#sk-container-id-1 pre{padding: 0;}#sk-container-id-1 div.sk-toggleable {background-color: white;}#sk-container-id-1 label.sk-toggleable__label {cursor: pointer;display: block;width: 100%;margin-bottom: 0;padding: 0.3em;box-sizing: border-box;text-align: center;}#sk-container-id-1 label.sk-toggleable__label-arrow:before {content: \"▸\";float: left;margin-right: 0.25em;color: #696969;}#sk-container-id-1 label.sk-toggleable__label-arrow:hover:before {color: black;}#sk-container-id-1 div.sk-estimator:hover label.sk-toggleable__label-arrow:before {color: black;}#sk-container-id-1 div.sk-toggleable__content {max-height: 0;max-width: 0;overflow: hidden;text-align: left;background-color: #f0f8ff;}#sk-container-id-1 div.sk-toggleable__content pre {margin: 0.2em;color: black;border-radius: 0.25em;background-color: #f0f8ff;}#sk-container-id-1 input.sk-toggleable__control:checked~div.sk-toggleable__content {max-height: 200px;max-width: 100%;overflow: auto;}#sk-container-id-1 input.sk-toggleable__control:checked~label.sk-toggleable__label-arrow:before {content: \"▾\";}#sk-container-id-1 div.sk-estimator input.sk-toggleable__control:checked~label.sk-toggleable__label {background-color: #d4ebff;}#sk-container-id-1 div.sk-label input.sk-toggleable__control:checked~label.sk-toggleable__label {background-color: #d4ebff;}#sk-container-id-1 input.sk-hidden--visually {border: 0;clip: rect(1px 1px 1px 1px);clip: rect(1px, 1px, 1px, 1px);height: 1px;margin: -1px;overflow: hidden;padding: 0;position: absolute;width: 1px;}#sk-container-id-1 div.sk-estimator {font-family: monospace;background-color: #f0f8ff;border: 1px dotted black;border-radius: 0.25em;box-sizing: border-box;margin-bottom: 0.5em;}#sk-container-id-1 div.sk-estimator:hover {background-color: #d4ebff;}#sk-container-id-1 div.sk-parallel-item::after {content: \"\";width: 100%;border-bottom: 1px solid gray;flex-grow: 1;}#sk-container-id-1 div.sk-label:hover label.sk-toggleable__label {background-color: #d4ebff;}#sk-container-id-1 div.sk-serial::before {content: \"\";position: absolute;border-left: 1px solid gray;box-sizing: border-box;top: 0;bottom: 0;left: 50%;z-index: 0;}#sk-container-id-1 div.sk-serial {display: flex;flex-direction: column;align-items: center;background-color: white;padding-right: 0.2em;padding-left: 0.2em;position: relative;}#sk-container-id-1 div.sk-item {position: relative;z-index: 1;}#sk-container-id-1 div.sk-parallel {display: flex;align-items: stretch;justify-content: center;background-color: white;position: relative;}#sk-container-id-1 div.sk-item::before, #sk-container-id-1 div.sk-parallel-item::before {content: \"\";position: absolute;border-left: 1px solid gray;box-sizing: border-box;top: 0;bottom: 0;left: 50%;z-index: -1;}#sk-container-id-1 div.sk-parallel-item {display: flex;flex-direction: column;z-index: 1;position: relative;background-color: white;}#sk-container-id-1 div.sk-parallel-item:first-child::after {align-self: flex-end;width: 50%;}#sk-container-id-1 div.sk-parallel-item:last-child::after {align-self: flex-start;width: 50%;}#sk-container-id-1 div.sk-parallel-item:only-child::after {width: 0;}#sk-container-id-1 div.sk-dashed-wrapped {border: 1px dashed gray;margin: 0 0.4em 0.5em 0.4em;box-sizing: border-box;padding-bottom: 0.4em;background-color: white;}#sk-container-id-1 div.sk-label label {font-family: monospace;font-weight: bold;display: inline-block;line-height: 1.2em;}#sk-container-id-1 div.sk-label-container {text-align: center;}#sk-container-id-1 div.sk-container {/* jupyter's `normalize.less` sets `[hidden] { display: none; }` but bootstrap.min.css set `[hidden] { display: none !important; }` so we also need the `!important` here to be able to override the default hidden behavior on the sphinx rendered scikit-learn.org. See: https://github.com/scikit-learn/scikit-learn/issues/21755 */display: inline-block !important;position: relative;}#sk-container-id-1 div.sk-text-repr-fallback {display: none;}</style><div id=\"sk-container-id-1\" class=\"sk-top-container\"><div class=\"sk-text-repr-fallback\"><pre>RandomForestClassifier(random_state=42)</pre><b>In a Jupyter environment, please rerun this cell to show the HTML representation or trust the notebook. <br />On GitHub, the HTML representation is unable to render, please try loading this page with nbviewer.org.</b></div><div class=\"sk-container\" hidden><div class=\"sk-item\"><div class=\"sk-estimator sk-toggleable\"><input class=\"sk-toggleable__control sk-hidden--visually\" id=\"sk-estimator-id-1\" type=\"checkbox\" checked><label for=\"sk-estimator-id-1\" class=\"sk-toggleable__label sk-toggleable__label-arrow\">RandomForestClassifier</label><div class=\"sk-toggleable__content\"><pre>RandomForestClassifier(random_state=42)</pre></div></div></div></div></div>"
      ],
      "text/plain": [
       "RandomForestClassifier(random_state=42)"
      ]
     },
     "execution_count": 41,
     "metadata": {},
     "output_type": "execute_result"
    }
   ],
   "source": [
    "from sklearn.ensemble import RandomForestClassifier\n",
    "\n",
    "# Initialize the model\n",
    "rf_model = RandomForestClassifier(random_state=42)\n",
    "\n",
    "# Fit the model\n",
    "rf_model.fit(X_train, train_targets)"
   ]
  },
  {
   "cell_type": "code",
   "execution_count": 42,
   "id": "da6d6da9-e2dd-4919-9208-d976df502237",
   "metadata": {},
   "outputs": [],
   "source": [
    "from sklearn.metrics import mean_squared_log_error"
   ]
  },
  {
   "cell_type": "code",
   "execution_count": 43,
   "id": "e47d39a3-946c-497f-af26-91818b58efc5",
   "metadata": {},
   "outputs": [],
   "source": [
    "train_preds = rf_model.predict(X_train)\n",
    "val_preds = rf_model.predict(X_val) "
   ]
  },
  {
   "cell_type": "code",
   "execution_count": 48,
   "id": "b53e7238-20e5-413b-8c64-a16a7c075c32",
   "metadata": {},
   "outputs": [
    {
     "data": {
      "text/plain": [
       "0.0009316108457055431"
      ]
     },
     "execution_count": 48,
     "metadata": {},
     "output_type": "execute_result"
    }
   ],
   "source": [
    "mean_squared_log_error(train_targets, train_preds)"
   ]
  },
  {
   "cell_type": "code",
   "execution_count": 47,
   "id": "27b58329-d13f-4d16-81db-15d786546af2",
   "metadata": {},
   "outputs": [
    {
     "data": {
      "text/plain": [
       "0.01078462751784139"
      ]
     },
     "execution_count": 47,
     "metadata": {},
     "output_type": "execute_result"
    }
   ],
   "source": [
    "mean_squared_log_error(val_targets, val_preds)"
   ]
  },
  {
   "cell_type": "code",
   "execution_count": 49,
   "id": "badefe4d-6530-4ecf-8df9-1b3f68daf17b",
   "metadata": {},
   "outputs": [],
   "source": [
    "test_preds = rf_model.predict(X_test) "
   ]
  },
  {
   "cell_type": "code",
   "execution_count": 53,
   "id": "6187d08c-d94b-474c-afbc-85f924a5c2a4",
   "metadata": {},
   "outputs": [
    {
     "data": {
      "text/plain": [
       "0.09209926190243273"
      ]
     },
     "execution_count": 53,
     "metadata": {},
     "output_type": "execute_result"
    }
   ],
   "source": [
    "mean_squared_log_error(test_targets, test_preds, squared=False)"
   ]
  },
  {
   "cell_type": "markdown",
   "id": "6dbf1391",
   "metadata": {},
   "source": [
    "## ✅ Accuracy Calculation"
   ]
  },
  {
   "cell_type": "code",
   "execution_count": 54,
   "id": "82e5bd41-0f60-4e1d-9e60-520c819ee316",
   "metadata": {},
   "outputs": [
    {
     "name": "stdout",
     "output_type": "stream",
     "text": [
      "Accuracy: 95.78%\n"
     ]
    }
   ],
   "source": [
    "from sklearn.metrics import accuracy_score\n",
    "\n",
    "accuracy = accuracy_score(test_targets, test_preds) * 100\n",
    "print(f\"Accuracy: {accuracy:.2f}%\")\n"
   ]
  },
  {
   "cell_type": "markdown",
   "id": "c05406ae",
   "metadata": {},
   "source": [
    "## ✅ Accuracy Calculation"
   ]
  },
  {
   "cell_type": "code",
   "execution_count": 58,
   "id": "d49793b4-ff92-4c43-a9d6-7d88974c5601",
   "metadata": {},
   "outputs": [
    {
     "name": "stdout",
     "output_type": "stream",
     "text": [
      "Accuracy: 95.08%\n"
     ]
    }
   ],
   "source": [
    "from sklearn.metrics import accuracy_score\n",
    "\n",
    "accuracy = accuracy_score(val_targets, val_preds) * 100\n",
    "print(f\"Accuracy: {accuracy:.2f}%\")\n"
   ]
  },
  {
   "cell_type": "code",
   "execution_count": null,
   "id": "5b4bc58a-56d8-4cad-8174-edd5d444aab1",
   "metadata": {},
   "outputs": [],
   "source": []
  },
  {
   "cell_type": "code",
   "execution_count": null,
   "id": "308d2450-6def-4181-ac90-a8dfe1652a6e",
   "metadata": {},
   "outputs": [],
   "source": []
  }
 ],
 "metadata": {
  "kernelspec": {
   "display_name": "Python 3 (ipykernel)",
   "language": "python",
   "name": "python3"
  },
  "language_info": {
   "codemirror_mode": {
    "name": "ipython",
    "version": 3
   },
   "file_extension": ".py",
   "mimetype": "text/x-python",
   "name": "python",
   "nbconvert_exporter": "python",
   "pygments_lexer": "ipython3",
   "version": "3.11.3"
  }
 },
 "nbformat": 4,
 "nbformat_minor": 5
}
